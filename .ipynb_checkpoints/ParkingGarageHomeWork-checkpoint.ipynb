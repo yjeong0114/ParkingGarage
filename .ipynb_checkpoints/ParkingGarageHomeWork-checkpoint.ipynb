{
 "cells": [
  {
   "cell_type": "code",
   "execution_count": 22,
   "id": "3774ce22",
   "metadata": {},
   "outputs": [
    {
     "name": "stdout",
     "output_type": "stream",
     "text": [
      "1.Take a ticket! -> 'TAKE'\n",
      "2.Pay for your ticket! -> 'PAY'\n",
      "3.Do you wanna leave? ->'LEAVE'\n",
      "leave\n",
      "That is not a valid option.\n",
      "1.Take a ticket! -> 'TAKE'\n",
      "2.Pay for your ticket! -> 'PAY'\n",
      "3.Do you wanna leave? ->'LEAVE'\n",
      "take\n",
      "Please take a ticket with you.\n",
      "1.Take a ticket! -> 'TAKE'\n",
      "2.Pay for your ticket! -> 'PAY'\n",
      "3.Do you wanna leave? ->'LEAVE'\n",
      "leave\n",
      "Please, pay for the ticket.\n",
      "Please, pay for the parking fee: 20\n",
      "Your ticket has been paid and you have 15pmins to leave.\n"
     ]
    }
   ],
   "source": [
    "class ParkingGarage():\n",
    "    \n",
    "    i = 29\n",
    "    payment = 0\n",
    "    \n",
    "    def __init__(self, tickets, parkingSpaces, currentTicket):\n",
    "        \n",
    "        self.tickets = tickets\n",
    "        self.parkingSpaces = parkingSpaces\n",
    "        self.currentTicket = currentTicket\n",
    "\n",
    "    def takeTicket(self):\n",
    "        if len(self.tickets) == 30:\n",
    "            print('The parking lot is full.')\n",
    "        else:\n",
    "            print(\"Please take a ticket with you.\")\n",
    "            self.parkingSpaces.append(self.i)\n",
    "            self.tickets.append(self.i)\n",
    "            self.currentTicket[self.i] = False         \n",
    "          \n",
    "    \n",
    "    def payForParking(self):  \n",
    "        if self.currentTicket[self.i] == False:\n",
    "            self.payment = input(\"Please, pay for the parking fee: \")\n",
    "            print(\"Your ticket has been paid and you have 15mins to leave.\")\n",
    "            self.currentTicket[self.i] = True \n",
    "        else:\n",
    "            print(\"You already paid for the ticket\")\n",
    "            \n",
    "        \n",
    "    def leaveGarage(self):\n",
    "        if self.currentTicket[self.i] == True:\n",
    "            print(\"Thank you. Have a nice day!\")\n",
    "            self.tickets.remove(self.i)\n",
    "            self.parkingSpaces.remove(self.i)\n",
    "        else:\n",
    "            print(\"Please, pay for the ticket.\")\n",
    "            self.payForParking()\n",
    "        \n",
    "parking_1 = ParkingGarage([],[],{})\n",
    "\n",
    "def run():\n",
    "  while True:\n",
    "    response = input(\"1.Take a ticket! -> 'TAKE'\\n2.Pay for your ticket! -> 'PAY'\\n3.Do you wanna leave? ->'LEAVE'\\n\")\n",
    "    \n",
    "    if response.lower() == 'take':\n",
    "        parking_1.takeTicket()\n",
    "    elif response.lower() == 'pay':\n",
    "        if len(parking_1.tickets) == 0:\n",
    "            print(\"Take a ticket first\")\n",
    "        else:\n",
    "            parking_1.payForParking()\n",
    "    elif response.lower() == 'leave':\n",
    "        if len(parking_1.tickets) == 0:\n",
    "            print(\"That is not a valid option.\")\n",
    "        else:\n",
    "            parking_1.leaveGarage()\n",
    "            break\n",
    "    else:\n",
    "        print('That is not a valid option. Please enter add, show, or quit.')\n",
    "\n",
    "run()"
   ]
  },
  {
   "cell_type": "code",
   "execution_count": null,
   "id": "c10af0e6",
   "metadata": {},
   "outputs": [],
   "source": []
  }
 ],
 "metadata": {
  "kernelspec": {
   "display_name": "Python 3 (ipykernel)",
   "language": "python",
   "name": "python3"
  },
  "language_info": {
   "codemirror_mode": {
    "name": "ipython",
    "version": 3
   },
   "file_extension": ".py",
   "mimetype": "text/x-python",
   "name": "python",
   "nbconvert_exporter": "python",
   "pygments_lexer": "ipython3",
   "version": "3.9.12"
  }
 },
 "nbformat": 4,
 "nbformat_minor": 5
}
